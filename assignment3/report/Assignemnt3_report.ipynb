{
 "cells": [
  {
   "cell_type": "markdown",
   "metadata": {},
   "source": [
    "# Assignment 1 Report"
   ]
  },
  {
   "cell_type": "markdown",
   "metadata": {},
   "source": [
    "## Task 1a"
   ]
  },
  {
   "cell_type": "markdown",
   "metadata": {},
   "source": [
    "## Task 1b"
   ]
  },
  {
   "cell_type": "markdown",
   "metadata": {},
   "source": [
    "## Task 1c\n"
   ]
  },
  {
   "cell_type": "markdown",
   "metadata": {},
   "source": [
    "## Task 1d\n",
    "Since the output and input are sqaures, then we now that the kernel also is square. We look at only the width:\n",
    "$$Input_w - (Kernel_w -1) = fmap1_w  $$\n",
    "$$Kernel1_w = Input_w - fmap1 + 1 $$\n",
    "$$Kernel1_w = 512 - 504 + 1 = 9 $$"
   ]
  },
  {
   "cell_type": "markdown",
   "metadata": {},
   "source": [
    "## Task 1e\n",
    "\n",
    "$$Pooled1_w = Polled1 _h = fmap1 = 504/2 = 252 $$\n"
   ]
  },
  {
   "cell_type": "markdown",
   "metadata": {},
   "source": [
    "## Task 1f\n",
    "\n",
    "$$Pooled1_w - (Kernel2_w -1) = fmap2_w  $$\n",
    "$$fmap2_w = Pooled1_w  - Kernel2_w + 1 $$\n",
    "$$Kernel_w = 252 - 3 + 1 = 250 $$"
   ]
  },
  {
   "cell_type": "markdown",
   "metadata": {},
   "source": [
    "## Task 1g\n",
    "\n",
    "\n",
    "$$filter1_param = ((25)*3+1 bias) * 32 =  2432$$\n",
    "$$filter2_param = ((25*32)+1 bias) * 64 = 51264 $$\n",
    "$$filter3_param = ((25*54) + 1 bias) * 128 = 172928 $$\n",
    "$$FCNN1 = height*with*numberOfFutureMaps * neuronsInNextLayer = 4 * 4 * 128 * 64 + 64(biases) = 131136$$\n",
    "$$FCNN2 = 64 * 10 + 10(biases) = 650 $$\n",
    "$$ Total number of parameters = 2432 + 51264 + 172928 + 131136 + 650 = 358410\n"
   ]
  }
 ],
 "metadata": {
  "kernelspec": {
   "display_name": "Python 3",
   "language": "python",
   "name": "python3"
  },
  "language_info": {
   "codemirror_mode": {
    "name": "ipython",
    "version": 3
   },
   "file_extension": ".py",
   "mimetype": "text/x-python",
   "name": "python",
   "nbconvert_exporter": "python",
   "pygments_lexer": "ipython3",
   "version": "3.6.10"
  }
 },
 "nbformat": 4,
 "nbformat_minor": 4
}
